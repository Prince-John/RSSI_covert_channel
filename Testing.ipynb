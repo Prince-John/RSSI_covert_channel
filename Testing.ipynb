{
 "cells": [
  {
   "cell_type": "markdown",
   "id": "526c071c",
   "metadata": {},
   "source": [
    "## Testing file for calculating BER"
   ]
  },
  {
   "cell_type": "markdown",
   "id": "842e1fc8",
   "metadata": {},
   "source": [
    "`control` has the expected sequence and the number of errors and BER can be found by running the calculate method with a test recieved sequence"
   ]
  },
  {
   "cell_type": "code",
   "execution_count": 1,
   "id": "ca31bb06",
   "metadata": {},
   "outputs": [],
   "source": [
    "control = ['1', '0', '1', '0', '1', '0', '0', '0', '1', '1', '1', '0', '1', '1', '1', '0', '1', '1', '1', '0', '0', '0', '1', '0', '1', '0', '1', '0', '0', '0', '1', '1', '1', '0', '1', '0', '0', '0']"
   ]
  },
  {
   "cell_type": "code",
   "execution_count": 3,
   "id": "1f563e8d",
   "metadata": {},
   "outputs": [],
   "source": [
    "c = [int(x) for x in control]"
   ]
  },
  {
   "cell_type": "code",
   "execution_count": 2,
   "id": "bd5ce059",
   "metadata": {},
   "outputs": [],
   "source": [
    "test1 = [1, 0, 1, 0, 1, 1, 0, 0, 0, 1, 1, 1, 1, 0, 1, 1, 1, 0, 1, 1, 1, 1, 0, 0, 0, 1, 0, 1, 0, 0, 0, 0, 0, 0, 1, 1, 1, 0, 0, 0, 0, 0, 0, 0, 0, 0, 0, 0, 0, 0, 0, 0, 0, 0, 0, 0, 0, 0, 0, 0, 0, 0, 0, 0, 0, 0, 0, 0, 0, 0, 0, 0, 0, 0, 0, 0, 0, 0, 0, 0, 0, 0, 0, 0, 0, 0]"
   ]
  },
  {
   "cell_type": "code",
   "execution_count": 10,
   "id": "50c9b304",
   "metadata": {},
   "outputs": [],
   "source": [
    "test2 = [1, 0, 1, 0, 1, 0, 0, 0, 1, 1, 1, 0, 1, 1, 1, 0, 1, 1, 1, 0, 0, 0, 1, 0, 1, 0, 1, 0, 0, 0, 1, 1, 1, 0, 1, 0, 0, 0, 0, 0, 0, 0, 0, 0, 0, 0]"
   ]
  },
  {
   "cell_type": "code",
   "execution_count": 15,
   "id": "e1ba4d90",
   "metadata": {},
   "outputs": [],
   "source": [
    "test3 = [0, 0, 0, 1, 0, 1, 1, 0, 1, 1, 1, 1, 1, 0, 0, 1, 1, 1, 1, 1, 1, 1, 1, 1, 1, 1, 1, 1, 1, 1, 1, 1, 1, 1, 1, 1, 1, 1, 1, 1, 1, 1, 1, 1, 1, 1, 1, 1, 1, 1, 1, 1, 1, 1, 1, 1, 0]"
   ]
  },
  {
   "cell_type": "code",
   "execution_count": 20,
   "id": "d7d3b0a5",
   "metadata": {},
   "outputs": [],
   "source": [
    "test5m = [1, 0, 1, 0, 1, 0, 0, 0, 1, 1, 1, 0, 1, 1, 1, 0, 1, 1, 1, 0, 0, 0, 0, 0, 1, 0, 1, 0, 0, 0, 1, 1, 1, 0, 1, 0, 0, 0, 0, 0, 0, 0, 0, 0, 0, 0, 0, 0, 0, 0]"
   ]
  },
  {
   "cell_type": "code",
   "execution_count": 26,
   "id": "5821f7f1",
   "metadata": {},
   "outputs": [],
   "source": [
    "test5m2 = [1, 1, 1, 1, 1, 1, 1, 1, 1, 1, 1, 1, 1, 1, 1, 1, 0, 1, 1, 1, 1, 1, 1, 1, 1, 1, 1, 1, 1, 1, 1, 1, 1, 1, 1, 1, 1, 1, 1, 1]"
   ]
  },
  {
   "cell_type": "code",
   "execution_count": 29,
   "id": "7c6c8ae0",
   "metadata": {},
   "outputs": [],
   "source": [
    "test5m4 = [1, 1, 1, 0, 1, 0, 1, 1, 1, 0, 1, 0, 0, 0, 1, 0, 1, 0, 1, 0, 0, 0, 1]"
   ]
  },
  {
   "cell_type": "code",
   "execution_count": 35,
   "id": "c51d334e",
   "metadata": {},
   "outputs": [],
   "source": [
    "testIn2 = [1, 0, 1, 0, 1, 0, 0, 0, 1, 1, 1, 0, 1, 1, 1, 0, 1, 1, 1, 0, 0, 0, 1, 0, 1, 0, 1, 0, 0, 0, 1]"
   ]
  },
  {
   "cell_type": "code",
   "execution_count": 32,
   "id": "40a455f2",
   "metadata": {},
   "outputs": [],
   "source": [
    "testIn1 = [1, 1, 0, 0, 0, 0, 1, 0, 1, 0, 1, 0, 0, 0, 1, 1, 1, 0, 0, 1, 0, 0, 0, 0, 0, 0]"
   ]
  },
  {
   "cell_type": "code",
   "execution_count": 38,
   "id": "d6ea42a6",
   "metadata": {},
   "outputs": [],
   "source": [
    "testIn5 = [1, 0, 1, 0, 1, 0, 0, 0, 1, 1, 1, 0, 1, 1, 1, 0, 1, 1, 1, 0, 0, 0, 1, 0, 1, 0, 1, 0, 0]"
   ]
  },
  {
   "cell_type": "code",
   "execution_count": 41,
   "id": "1e840e15",
   "metadata": {},
   "outputs": [],
   "source": [
    "testIn5m2 = [1, 0, 1, 0, 1, 0, 0, 0, 1, 1, 1, 0, 1, 1, 1, 0, 1, 1, 1, 0, 0, 0, 1, 0, 1, 0, 1, 0, 0]"
   ]
  },
  {
   "cell_type": "code",
   "execution_count": 45,
   "id": "f33ee9ec",
   "metadata": {},
   "outputs": [],
   "source": [
    "testIn5m1 = [1, 0, 1, 0, 1, 0, 0, 0, 1, 1, 1, 0, 1, 1, 1, 0, 1, 1, 1, 0, 0, 0, 1, 0, 0, 0, 0, 1, 0, 0, 0, 1, 1, 1, 0, 1, 0]"
   ]
  },
  {
   "cell_type": "code",
   "execution_count": 12,
   "id": "0f0c677f",
   "metadata": {},
   "outputs": [],
   "source": [
    "def calculate(test, control): \n",
    "\n",
    "    errors = 0\n",
    "    for index, i in enumerate(test):\n",
    "        if index<len(control):\n",
    "            errors += i^c[index]\n",
    "    ber = errors/len(control)\n",
    "    \n",
    "    return errors, ber\n",
    "    "
   ]
  },
  {
   "cell_type": "code",
   "execution_count": 46,
   "id": "86514ffe",
   "metadata": {},
   "outputs": [],
   "source": [
    "errors, ber = calculate(testIn5m1, control)\n",
    "print(f'Total errors: {errors}, BER: {ber*100}%')"
   ]
  }
 ],
 "metadata": {
  "kernelspec": {
   "display_name": "Python 3 (ipykernel)",
   "language": "python",
   "name": "python3"
  },
  "language_info": {
   "codemirror_mode": {
    "name": "ipython",
    "version": 3
   },
   "file_extension": ".py",
   "mimetype": "text/x-python",
   "name": "python",
   "nbconvert_exporter": "python",
   "pygments_lexer": "ipython3",
   "version": "3.8.10"
  }
 },
 "nbformat": 4,
 "nbformat_minor": 5
}
